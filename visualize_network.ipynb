{
 "cells": [
  {
   "cell_type": "markdown",
   "id": "34584760",
   "metadata": {},
   "source": [
    "# Salt Lake City Network Visualization Example\n",
    "\n",
    "This notebook demonstrates how to load and visualize the network data created by the main notebook."
   ]
  },
  {
   "cell_type": "code",
   "execution_count": null,
   "id": "c6b3ff09",
   "metadata": {},
   "outputs": [],
   "source": [
    "# Import required libraries\n",
    "import geopandas as gpd\n",
    "import networkx as nx\n",
    "import matplotlib.pyplot as plt\n",
    "import pandas as pd\n",
    "import contextily as ctx"
   ]
  },
  {
   "cell_type": "markdown",
   "id": "7039db41",
   "metadata": {},
   "source": [
    "## Load the Network Data\n",
    "\n",
    "Load the previously generated network data."
   ]
  },
  {
   "cell_type": "code",
   "execution_count": null,
   "id": "e50c2ff0",
   "metadata": {},
   "outputs": [],
   "source": [
    "# Load the network\n",
    "try:\n",
    "    tract_graph = nx.read_graphml('salt_lake_city_utah_usa_tract_network.graphml')\n",
    "    print(f\"Loaded network with {len(tract_graph.nodes())} nodes and {len(tract_graph.edges())} edges\")\n",
    "except Exception as e:\n",
    "    print(f\"Error loading network: {e}\")\n",
    "    print(\"Please run the main notebook first to generate the network data.\")"
   ]
  },
  {
   "cell_type": "code",
   "execution_count": null,
   "id": "1accb910",
   "metadata": {},
   "outputs": [],
   "source": [
    "# Load node data with positions\n",
    "try:\n",
    "    nodes_df = pd.read_csv('salt_lake_city_utah_usa_tract_nodes.csv', index_col=0)\n",
    "    \n",
    "    # Extract position data\n",
    "    pos = {}\n",
    "    for idx, row in nodes_df.iterrows():\n",
    "        # Check if pos column exists as tuple or as separate columns\n",
    "        if 'pos' in row:\n",
    "            pos[idx] = eval(row['pos']) \n",
    "        elif 'pos_x' in row and 'pos_y' in row:\n",
    "            pos[idx] = (row['pos_x'], row['pos_y'])\n",
    "            \n",
    "    print(f\"Loaded position data for {len(pos)} nodes\")\n",
    "except Exception as e:\n",
    "    print(f\"Error loading node data: {e}\")\n",
    "    print(\"Please run the main notebook first to generate the CSV files.\")"
   ]
  },
  {
   "cell_type": "markdown",
   "id": "9fc8e04a",
   "metadata": {},
   "source": [
    "## Visualize the Network\n",
    "\n",
    "Create a simple visualization of the network."
   ]
  },
  {
   "cell_type": "code",
   "execution_count": null,
   "id": "3333d58d",
   "metadata": {},
   "outputs": [],
   "source": [
    "# Visualize the network\n",
    "plt.figure(figsize=(12, 12))\n",
    "\n",
    "# Convert position strings to tuples if needed\n",
    "pos = {str(idx): eval(str(row['pos'])) if isinstance(row['pos'], str) else row['pos'] \n",
    "       for idx, row in nodes_df.iterrows()}\n",
    "\n",
    "# Draw the network\n",
    "nx.draw(\n",
    "    tract_graph,\n",
    "    pos=pos,\n",
    "    node_size=50,\n",
    "    node_color='blue',\n",
    "    edge_color='red',\n",
    "    alpha=0.7,\n",
    "    with_labels=False\n",
    ")\n",
    "\n",
    "plt.title('Salt Lake City Census Tract Network')\n",
    "plt.axis('off')\n",
    "plt.show()"
   ]
  },
  {
   "cell_type": "markdown",
   "id": "2c5e609a",
   "metadata": {},
   "source": [
    "## Network Analysis\n",
    "\n",
    "Perform some basic network analysis on the tract network."
   ]
  },
  {
   "cell_type": "code",
   "execution_count": null,
   "id": "36291034",
   "metadata": {},
   "outputs": [],
   "source": [
    "# Calculate basic network metrics\n",
    "print(\"Network Metrics:\")\n",
    "print(f\"Number of nodes: {len(tract_graph.nodes())}\")\n",
    "print(f\"Number of edges: {len(tract_graph.edges())}\")\n",
    "print(f\"Average degree: {sum(dict(tract_graph.degree()).values()) / len(tract_graph)}\")\n",
    "\n",
    "# Check if the graph is connected\n",
    "is_connected = nx.is_connected(tract_graph)\n",
    "print(f\"Is connected: {is_connected}\")\n",
    "\n",
    "if not is_connected:\n",
    "    # Get the number of connected components\n",
    "    components = list(nx.connected_components(tract_graph))\n",
    "    print(f\"Number of connected components: {len(components)}\")\n",
    "    print(f\"Sizes of connected components: {[len(c) for c in components]}\")\n",
    "else:\n",
    "    # Calculate diameter and average path length\n",
    "    diameter = nx.diameter(tract_graph)\n",
    "    avg_path_length = nx.average_shortest_path_length(tract_graph)\n",
    "    print(f\"Network diameter: {diameter}\")\n",
    "    print(f\"Average shortest path length: {avg_path_length:.2f}\")"
   ]
  }
 ],
 "metadata": {
  "kernelspec": {
   "display_name": "test",
   "language": "python",
   "name": "python3"
  },
  "language_info": {
   "codemirror_mode": {
    "name": "ipython",
    "version": 3
   },
   "file_extension": ".py",
   "mimetype": "text/x-python",
   "name": "python",
   "nbconvert_exporter": "python",
   "pygments_lexer": "ipython3",
   "version": "3.10.14"
  }
 },
 "nbformat": 4,
 "nbformat_minor": 5
}
