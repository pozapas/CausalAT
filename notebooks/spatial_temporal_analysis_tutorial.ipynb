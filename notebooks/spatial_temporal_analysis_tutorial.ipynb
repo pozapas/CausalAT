{
 "cells": [
  {
   "cell_type": "markdown",
   "id": "7919607f",
   "metadata": {},
   "source": [
    "# Spatial and Temporal Analysis for Active Transportation\n",
    "\n",
    "This tutorial demonstrates how to use the spatial and temporal analysis capabilities in the CISD (Causal-Intervention Scenario Design) package for active transportation research.\n",
    "\n",
    "We'll cover:\n",
    "1. Generating synthetic spatial-temporal datasets\n",
    "2. Analyzing spatial autocorrelation in treatment effects\n",
    "3. Implementing longitudinal causal inference methods\n",
    "4. Visualizing spatial and temporal patterns"
   ]
  },
  {
   "cell_type": "code",
   "execution_count": null,
   "id": "6fe7fa7c",
   "metadata": {},
   "outputs": [],
   "source": [
    "import numpy as np\n",
    "import pandas as pd\n",
    "import matplotlib.pyplot as plt\n",
    "import seaborn as sns\n",
    "\n",
    "# Import CISD package components\n",
    "from cisd.spatial_temporal import SpatialDependencyHandler, LongitudinalDataHandler\n",
    "from cisd.spatial_neighborhood_generator import generate_synthetic_neighborhood_data\n",
    "from cisd.visualization import plot_spatial_effects\n",
    "\n",
    "# For better visualization\n",
    "plt.style.use('seaborn-whitegrid')\n",
    "%matplotlib inline\n",
    "\n",
    "# Optional: import geopandas for more advanced spatial analysis\n",
    "try:\n",
    "    import geopandas as gpd\n",
    "    from shapely.geometry import Point\n",
    "    HAS_SPATIAL = True\n",
    "except ImportError:\n",
    "    HAS_SPATIAL = False\n",
    "    print(\"For full spatial analysis capabilities, install geopandas: pip install geopandas\")"
   ]
  },
  {
   "cell_type": "markdown",
   "id": "3057f08a",
   "metadata": {},
   "source": [
    "## 1. Generating Synthetic Spatial-Temporal Data\n",
    "\n",
    "First, we'll generate synthetic neighborhood-level panel data with spatial correlation and temporal trends."
   ]
  },
  {
   "cell_type": "code",
   "execution_count": null,
   "id": "8701ff6a",
   "metadata": {},
   "outputs": [],
   "source": [
    "# Generate a synthetic neighborhood panel dataset\n",
    "neighborhood_data = generate_synthetic_neighborhood_data(\n",
    "    n_neighborhoods=50,  # Number of neighborhoods\n",
    "    n_time_periods=8,    # Number of time periods\n",
    "    treatment_period=4,  # When treatment begins (period 4)\n",
    "    treatment_share=0.4, # 40% of neighborhoods get treated\n",
    "    spatial_correlation=0.5,  # Spatial correlation strength\n",
    "    seed=42\n",
    ")\n",
    "\n",
    "# Display the first few rows\n",
    "neighborhood_data.head()"
   ]
  },
  {
   "cell_type": "markdown",
   "id": "a5216e3d",
   "metadata": {},
   "source": [
    "### Explore basic statistics of the dataset"
   ]
  },
  {
   "cell_type": "code",
   "execution_count": null,
   "id": "668a9eee",
   "metadata": {},
   "outputs": [],
   "source": [
    "# Summary statistics\n",
    "neighborhood_data.describe()"
   ]
  },
  {
   "cell_type": "code",
   "execution_count": null,
   "id": "b247dee4",
   "metadata": {},
   "outputs": [],
   "source": [
    "# Check treatment distribution\n",
    "print(f\"Total observations: {len(neighborhood_data)}\")\n",
    "print(f\"Treatment observations: {neighborhood_data['treatment'].sum()}\")\n",
    "print(f\"Treatment percentage: {100 * neighborhood_data['treatment'].mean():.1f}%\")"
   ]
  },
  {
   "cell_type": "markdown",
   "id": "6bb3c1e7",
   "metadata": {},
   "source": [
    "### Visualize neighborhood locations\n",
    "\n",
    "Let's create a spatial map of our neighborhoods to see their distribution."
   ]
  },
  {
   "cell_type": "code",
   "execution_count": null,
   "id": "9197a994",
   "metadata": {},
   "outputs": [],
   "source": [
    "# Get unique neighborhoods for final time period\n",
    "final_period = neighborhood_data['period'].max()\n",
    "final_data = neighborhood_data[neighborhood_data['period'] == final_period].copy()\n",
    "\n",
    "# Create a plot\n",
    "plt.figure(figsize=(10, 8))\n",
    "plt.scatter(\n",
    "    final_data['x_coord'], \n",
    "    final_data['y_coord'],\n",
    "    c=final_data['treatment'], \n",
    "    cmap='coolwarm',\n",
    "    s=100,\n",
    "    alpha=0.7\n",
    ")\n",
    "plt.colorbar(label='Treatment Status')\n",
    "plt.title('Neighborhood Locations with Treatment Status')\n",
    "plt.xlabel('X Coordinate')\n",
    "plt.ylabel('Y Coordinate')\n",
    "plt.grid(True, alpha=0.3)\n",
    "\n",
    "# Add neighborhood IDs as labels\n",
    "for i, row in final_data.iterrows():\n",
    "    plt.text(row['x_coord'] + 0.01, row['y_coord'] + 0.01, str(int(row['neighborhood_id'])))\n",
    "\n",
    "plt.show()"
   ]
  },
  {
   "cell_type": "markdown",
   "id": "a30ffe7d",
   "metadata": {},
   "source": [
    "### Visualize temporal trends"
   ]
  },
  {
   "cell_type": "code",
   "execution_count": null,
   "id": "bee67794",
   "metadata": {},
   "outputs": [],
   "source": [
    "# Group by period and treatment status, calculate mean active transportation rate\n",
    "temporal_trends = neighborhood_data.groupby(['period', 'treatment'])['active_transportation_rate'].mean().reset_index()\n",
    "\n",
    "# Pivot for plotting\n",
    "trend_pivot = temporal_trends.pivot(index='period', columns='treatment', values='active_transportation_rate')\n",
    "trend_pivot.columns = ['Control', 'Treated']\n",
    "\n",
    "# Plot\n",
    "plt.figure(figsize=(10, 6))\n",
    "plt.plot(trend_pivot.index, trend_pivot['Control'], 'b-o', label='Control')\n",
    "plt.plot(trend_pivot.index, trend_pivot['Treated'], 'r-o', label='Treated')\n",
    "plt.axvline(x=4, color='black', linestyle='--', label='Treatment Start')\n",
    "plt.title('Active Transportation Rates Over Time')\n",
    "plt.xlabel('Time Period')\n",
    "plt.ylabel('Mean Active Transportation Rate')\n",
    "plt.legend()\n",
    "plt.grid(True, alpha=0.3)\n",
    "plt.show()"
   ]
  },
  {
   "cell_type": "markdown",
   "id": "3a881861",
   "metadata": {},
   "source": [
    "## 2. Spatial Analysis with SpatialDependencyHandler\n",
    "\n",
    "Now we'll use the `SpatialDependencyHandler` to analyze and adjust for spatial dependencies in our data."
   ]
  },
  {
   "cell_type": "code",
   "execution_count": null,
   "id": "bba9ccfa",
   "metadata": {},
   "outputs": [],
   "source": [
    "# Convert to GeoDataFrame if geopandas is available\n",
    "if HAS_SPATIAL:\n",
    "    # Create Point geometries\n",
    "    geometries = [Point(x, y) for x, y in zip(final_data['x_coord'], final_data['y_coord'])]\n",
    "    \n",
    "    # Convert to GeoDataFrame\n",
    "    gdf = gpd.GeoDataFrame(final_data, geometry=geometries)\n",
    "    \n",
    "    # Create spatial weights matrix using Queen contiguity\n",
    "    spatial_handler = SpatialDependencyHandler(weight_type='knn', k=5)\n",
    "    \n",
    "    # Fit the handler and create lagged variables\n",
    "    gdf_with_lags = spatial_handler.fit_transform(gdf)\n",
    "    \n",
    "    # View the data with spatial lags\n",
    "    print(\"Columns with spatial lags:\")\n",
    "    spatial_lag_cols = [col for col in gdf_with_lags.columns if 'spatial_lag' in col]\n",
    "    print(spatial_lag_cols)\n",
    "    \n",
    "    # Display a few columns including a spatial lag\n",
    "    display(gdf_with_lags[['neighborhood_id', 'active_transportation_rate', \n",
    "                          'active_transportation_rate_spatial_lag']].head())\n",
    "    \n",
    "    # Calculate Global Moran's I for the outcome variable\n",
    "    from libpysal.weights import Queen\n",
    "    from esda.moran import Moran\n",
    "    \n",
    "    w = Queen.from_dataframe(gdf)\n",
    "    moran = Moran(gdf['active_transportation_rate'], w)\n",
    "    print(f\"Moran's I: {moran.I:.3f} (p-value: {moran.p_sim:.3f})\")\n",
    "else:\n",
    "    print(\"Skipping spatial analysis section (requires geopandas)\")"
   ]
  },
  {
   "cell_type": "markdown",
   "id": "6196f0f3",
   "metadata": {},
   "source": [
    "### Visualizing spatial autocorrelation in the outcome"
   ]
  },
  {
   "cell_type": "code",
   "execution_count": null,
   "id": "f807a156",
   "metadata": {},
   "outputs": [],
   "source": [
    "if HAS_SPATIAL:\n",
    "    # Create a Moran scatter plot\n",
    "    from splot.esda import moran_scatterplot\n",
    "    \n",
    "    fig, ax = plt.subplots(figsize=(10, 8))\n",
    "    moran_scatterplot(moran, ax=ax)\n",
    "    ax.set_title(\"Moran Scatter Plot of Active Transportation Rates\")\n",
    "    plt.show()\n",
    "    \n",
    "    # Create choropleth map of the outcome\n",
    "    fig, ax = plt.subplots(figsize=(10, 8))\n",
    "    gdf.plot(\n",
    "        column='active_transportation_rate',\n",
    "        cmap='viridis',\n",
    "        legend=True,\n",
    "        ax=ax\n",
    "    )\n",
    "    ax.set_title(\"Active Transportation Rates by Neighborhood\")\n",
    "    plt.show()\n",
    "else:\n",
    "    print(\"Skipping spatial visualization (requires geopandas and splot)\")"
   ]
  },
  {
   "cell_type": "markdown",
   "id": "ca8ce505",
   "metadata": {},
   "source": [
    "## 3. Longitudinal Analysis with LongitudinalDataHandler\n",
    "\n",
    "Now we'll use the `LongitudinalDataHandler` to perform causal inference with our panel data."
   ]
  },
  {
   "cell_type": "code",
   "execution_count": null,
   "id": "2465cf51",
   "metadata": {},
   "outputs": [],
   "source": [
    "# First, filter the data to relevant columns\n",
    "panel_data = neighborhood_data[['neighborhood_id', 'period', 'X1', 'X2', 'X3', 'X4', 'X5', \n",
    "                              'treatment', 'active_transportation_rate']].copy()\n",
    "\n",
    "# Initialize the longitudinal data handler with difference-in-differences method\n",
    "long_handler = LongitudinalDataHandler(method='did')\n",
    "\n",
    "# Fit the model\n",
    "# X contains covariates, Y is the outcome, D is treatment\n",
    "X = panel_data[['X1', 'X2', 'X3', 'X4', 'X5']].values\n",
    "D = panel_data['treatment'].values\n",
    "Y = panel_data['active_transportation_rate'].values\n",
    "time_var = panel_data['period'].values\n",
    "id_var = panel_data['neighborhood_id'].values\n",
    "\n",
    "long_handler.fit(X, D, Y, time_var, id_var)\n",
    "\n",
    "# Get treatment effect estimate\n",
    "att = long_handler.estimate_effect()\n",
    "print(f\"Average Treatment Effect on the Treated (ATT): {att:.3f}\")"
   ]
  },
  {
   "cell_type": "markdown",
   "id": "663592ca",
   "metadata": {},
   "source": [
    "### Visualizing parallel trends assumption"
   ]
  },
  {
   "cell_type": "code",
   "execution_count": null,
   "id": "e02eab58",
   "metadata": {},
   "outputs": [],
   "source": [
    "# Create a helper function to plot trend data\n",
    "def plot_parallel_trends(data, id_var, time_var, treat_var, outcome_var, treatment_time):\n",
    "    # Create a DataFrame with mean outcomes by group and time\n",
    "    trend_data = data.groupby([time_var, treat_var])[outcome_var].mean().reset_index()\n",
    "    trend_pivot = trend_data.pivot(index=time_var, columns=treat_var, values=outcome_var)\n",
    "    trend_pivot.columns = ['Control', 'Treated']\n",
    "    \n",
    "    # Plot the trends\n",
    "    plt.figure(figsize=(12, 7))\n",
    "    plt.plot(trend_pivot.index, trend_pivot['Control'], 'b-o', label='Control')\n",
    "    plt.plot(trend_pivot.index, trend_pivot['Treated'], 'r-o', label='Treated')\n",
    "    \n",
    "    # Add vertical line at treatment time\n",
    "    plt.axvline(x=treatment_time-0.5, color='black', linestyle='--', label='Treatment Start')\n",
    "    \n",
    "    # Add labels and title\n",
    "    plt.title('Parallel Trends Visualization')\n",
    "    plt.xlabel('Time Period')\n",
    "    plt.ylabel('Mean Outcome')\n",
    "    plt.legend()\n",
    "    plt.grid(True, alpha=0.3)\n",
    "    \n",
    "    return plt\n",
    "\n",
    "# Plot parallel trends\n",
    "plot_parallel_trends(\n",
    "    data=panel_data,\n",
    "    id_var='neighborhood_id',\n",
    "    time_var='period',\n",
    "    treat_var='treatment',\n",
    "    outcome_var='active_transportation_rate',\n",
    "    treatment_time=4\n",
    ")\n",
    "plt.show()"
   ]
  },
  {
   "cell_type": "markdown",
   "id": "9de46b03",
   "metadata": {},
   "source": [
    "### Estimating dynamic treatment effects"
   ]
  },
  {
   "cell_type": "code",
   "execution_count": null,
   "id": "ad4d7549",
   "metadata": {},
   "outputs": [],
   "source": [
    "# Estimate dynamic treatment effects (effect by time period)\n",
    "dynamic_effects = long_handler.estimate_dynamic_effects()\n",
    "\n",
    "# Plot dynamic effects\n",
    "periods = sorted(list(dynamic_effects.keys()))\n",
    "effects = [dynamic_effects[p] for p in periods]\n",
    "\n",
    "plt.figure(figsize=(10, 6))\n",
    "plt.bar(periods, effects, color='steelblue')\n",
    "plt.axhline(y=0, color='r', linestyle='-', alpha=0.3)\n",
    "plt.title('Dynamic Treatment Effects')\n",
    "plt.xlabel('Time Period')\n",
    "plt.ylabel('Effect Size')\n",
    "plt.grid(True, alpha=0.3)\n",
    "plt.xticks(periods)\n",
    "plt.show()"
   ]
  },
  {
   "cell_type": "markdown",
   "id": "cb9c2198",
   "metadata": {},
   "source": [
    "## 4. Combining Spatial and Temporal Analysis\n",
    "\n",
    "Now we'll combine the spatial and temporal aspects to get a more comprehensive analysis."
   ]
  },
  {
   "cell_type": "code",
   "execution_count": null,
   "id": "c7a04f89",
   "metadata": {},
   "outputs": [],
   "source": [
    "# First, get heterogeneous treatment effects for each neighborhood\n",
    "neighborhood_effects = {}\n",
    "\n",
    "for neighborhood in panel_data['neighborhood_id'].unique():\n",
    "    # Extract data for this neighborhood\n",
    "    neigh_data = panel_data[panel_data['neighborhood_id'] == neighborhood].copy()\n",
    "    \n",
    "    # Calculate simple before-after difference for treated units\n",
    "    if neigh_data['treatment'].max() > 0:  # Only for treated neighborhoods\n",
    "        before = neigh_data[neigh_data['period'] < 4]['active_transportation_rate'].mean()\n",
    "        after = neigh_data[neigh_data['period'] >= 4]['active_transportation_rate'].mean()\n",
    "        effect = after - before\n",
    "        neighborhood_effects[neighborhood] = effect\n",
    "\n",
    "print(f\"Calculated effects for {len(neighborhood_effects)} neighborhoods\")\n",
    "\n",
    "# Create a DataFrame with the effects\n",
    "effects_df = pd.DataFrame({\n",
    "    'neighborhood_id': list(neighborhood_effects.keys()),\n",
    "    'treatment_effect': list(neighborhood_effects.values())\n",
    "})\n",
    "\n",
    "# Merge with spatial data from the last period\n",
    "spatial_effects = final_data.merge(\n",
    "    effects_df, \n",
    "    on='neighborhood_id', \n",
    "    how='left'\n",
    ")\n",
    "\n",
    "# Fill NaNs (untreated neighborhoods)\n",
    "spatial_effects['treatment_effect'].fillna(0, inplace=True)\n",
    "\n",
    "# Display the result\n",
    "spatial_effects[['neighborhood_id', 'treatment', 'treatment_effect']].head(10)"
   ]
  },
  {
   "cell_type": "markdown",
   "id": "b04a45bb",
   "metadata": {},
   "source": [
    "### Visualize spatial distribution of treatment effects"
   ]
  },
  {
   "cell_type": "code",
   "execution_count": null,
   "id": "5211f197",
   "metadata": {},
   "outputs": [],
   "source": [
    "# Create a scatter plot of treatment effects by location\n",
    "plt.figure(figsize=(10, 8))\n",
    "scatter = plt.scatter(\n",
    "    spatial_effects['x_coord'], \n",
    "    spatial_effects['y_coord'],\n",
    "    c=spatial_effects['treatment_effect'], \n",
    "    cmap='RdBu_r',\n",
    "    s=100,\n",
    "    alpha=0.7,\n",
    "    vmin=-spatial_effects['treatment_effect'].abs().max(),  # Symmetrical colormap\n",
    "    vmax=spatial_effects['treatment_effect'].abs().max()\n",
    ")\n",
    "plt.colorbar(label='Treatment Effect')\n",
    "plt.title('Spatial Distribution of Treatment Effects')\n",
    "plt.xlabel('X Coordinate')\n",
    "plt.ylabel('Y Coordinate')\n",
    "plt.grid(True, alpha=0.3)\n",
    "\n",
    "# Add neighborhood IDs as labels\n",
    "for i, row in spatial_effects.iterrows():\n",
    "    plt.text(row['x_coord'] + 0.01, row['y_coord'] + 0.01, str(int(row['neighborhood_id'])))\n",
    "\n",
    "plt.show()"
   ]
  },
  {
   "cell_type": "markdown",
   "id": "fa69d331",
   "metadata": {},
   "source": [
    "### Creating a proper spatial visualization with GeoDataFrame"
   ]
  },
  {
   "cell_type": "code",
   "execution_count": null,
   "id": "b6761e7e",
   "metadata": {},
   "outputs": [],
   "source": [
    "if HAS_SPATIAL:\n",
    "    # Convert to GeoDataFrame\n",
    "    effects_gdf = gpd.GeoDataFrame(\n",
    "        spatial_effects, \n",
    "        geometry=[Point(x, y) for x, y in zip(spatial_effects['x_coord'], spatial_effects['y_coord'])]\n",
    "    )\n",
    "    \n",
    "    # Use plot_spatial_effects function from cisd.visualization\n",
    "    fig = plot_spatial_effects(\n",
    "        geo_df=effects_gdf,\n",
    "        effect_col='treatment_effect',\n",
    "        title='Spatial Distribution of Treatment Effects',\n",
    "        cmap='RdBu_r'\n",
    "    )\n",
    "    plt.show()\n",
    "    \n",
    "    # Calculate Moran's I for the treatment effects\n",
    "    w = Queen.from_dataframe(effects_gdf)\n",
    "    moran_effects = Moran(effects_gdf['treatment_effect'], w)\n",
    "    print(f\"Moran's I for treatment effects: {moran_effects.I:.3f} (p-value: {moran_effects.p_sim:.3f})\")\n",
    "    \n",
    "    # If there's spatial autocorrelation, adjust the treatment effects\n",
    "    if moran_effects.p_sim < 0.05:\n",
    "        print(\"Significant spatial autocorrelation detected in treatment effects. Adjusting...\")\n",
    "        \n",
    "        # Initialize spatial handler and fit\n",
    "        spatial_handler = SpatialDependencyHandler(weight_type='queen')\n",
    "        spatial_handler.fit(effects_gdf)\n",
    "        \n",
    "        # Adjust the effects\n",
    "        adjusted_effects = spatial_handler.adjust_effect_estimates(\n",
    "            effects_gdf['treatment_effect'].values, \n",
    "            effects_gdf\n",
    "        )\n",
    "        \n",
    "        # Add to the GeoDataFrame\n",
    "        effects_gdf['adjusted_treatment_effect'] = adjusted_effects\n",
    "        \n",
    "        # Plot adjusted effects\n",
    "        fig = plot_spatial_effects(\n",
    "            geo_df=effects_gdf,\n",
    "            effect_col='adjusted_treatment_effect',\n",
    "            title='Spatially Adjusted Treatment Effects',\n",
    "            cmap='RdBu_r'\n",
    "        )\n",
    "        plt.show()\n",
    "        \n",
    "        # Calculate Moran's I for adjusted effects\n",
    "        moran_adjusted = Moran(effects_gdf['adjusted_treatment_effect'], w)\n",
    "        print(f\"Moran's I for adjusted effects: {moran_adjusted.I:.3f} (p-value: {moran_adjusted.p_sim:.3f})\")\n",
    "else:\n",
    "    print(\"Skipping GeoDataFrame visualization (requires geopandas)\")"
   ]
  },
  {
   "cell_type": "markdown",
   "id": "af8d1f89",
   "metadata": {},
   "source": [
    "## 5. Advanced Analysis: Fixed Effects and Synthetic Control\n",
    "\n",
    "Let's try some more advanced longitudinal methods."
   ]
  },
  {
   "cell_type": "code",
   "execution_count": null,
   "id": "ff5b4699",
   "metadata": {},
   "outputs": [],
   "source": [
    "# Try fixed effects method\n",
    "fe_handler = LongitudinalDataHandler(method='fe')\n",
    "fe_handler.fit(X, D, Y, time_var, id_var)\n",
    "fe_att = fe_handler.estimate_effect()\n",
    "\n",
    "print(f\"Fixed Effects ATT: {fe_att:.3f}\")"
   ]
  },
  {
   "cell_type": "code",
   "execution_count": null,
   "id": "2a641309",
   "metadata": {},
   "outputs": [],
   "source": [
    "# Try synthetic control method (for a single treated unit)\n",
    "try:\n",
    "    # Get data for one treated neighborhood\n",
    "    treated_id = effects_df['neighborhood_id'].iloc[0]\n",
    "    single_unit_data = panel_data[panel_data['neighborhood_id'].isin([treated_id] + list(range(10)))].copy()\n",
    "    \n",
    "    # Fit synthetic control\n",
    "    synth_handler = LongitudinalDataHandler(method='synth')\n",
    "    synth_handler.fit(\n",
    "        single_unit_data[['X1', 'X2', 'X3', 'X4', 'X5']].values,\n",
    "        single_unit_data['treatment'].values,\n",
    "        single_unit_data['active_transportation_rate'].values,\n",
    "        single_unit_data['period'].values,\n",
    "        single_unit_data['neighborhood_id'].values\n",
    "    )\n",
    "    \n",
    "    # Get synthetic control results\n",
    "    synth_effect = synth_handler.estimate_effect()\n",
    "    print(f\"Synthetic Control ATT: {synth_effect:.3f}\")\n",
    "    \n",
    "    # Plot synthetic control results\n",
    "    synth_results = synth_handler.get_synthetic_control_results()\n",
    "    \n",
    "    plt.figure(figsize=(10, 6))\n",
    "    plt.plot(synth_results['period'], synth_results['treated'], 'r-o', label='Treated Unit')\n",
    "    plt.plot(synth_results['period'], synth_results['synthetic'], 'b-o', label='Synthetic Control')\n",
    "    plt.axvline(x=4-0.5, color='black', linestyle='--', label='Treatment Start')\n",
    "    plt.title(f'Synthetic Control Analysis for Neighborhood {treated_id}')\n",
    "    plt.xlabel('Time Period')\n",
    "    plt.ylabel('Active Transportation Rate')\n",
    "    plt.legend()\n",
    "    plt.grid(True, alpha=0.3)\n",
    "    plt.show()\n",
    "    \n",
    "except Exception as e:\n",
    "    print(f\"Error in synthetic control analysis: {e}\")\n",
    "    print(\"Synthetic control requires specific data structure and dependencies.\")"
   ]
  },
  {
   "cell_type": "markdown",
   "id": "b5268b81",
   "metadata": {},
   "source": [
    "## 6. Conclusion\n",
    "\n",
    "In this tutorial, we've demonstrated how to use the spatial and temporal analysis capabilities in the CISD package for active transportation research. \n",
    "\n",
    "We covered:\n",
    "- Generating synthetic spatial-temporal datasets\n",
    "- Analyzing and visualizing spatial patterns in active transportation data\n",
    "- Implementing longitudinal causal inference methods (DiD, FE, Synthetic Control)\n",
    "- Combining spatial and temporal analyses for comprehensive insights\n",
    "\n",
    "These tools can help researchers analyze the causal effects of active transportation interventions while accounting for spatial dependencies and temporal trends."
   ]
  }
 ],
 "metadata": {
  "language_info": {
   "name": "python"
  }
 },
 "nbformat": 4,
 "nbformat_minor": 5
}
